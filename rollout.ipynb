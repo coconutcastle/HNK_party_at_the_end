{
 "cells": [
  {
   "cell_type": "code",
   "execution_count": 7,
   "metadata": {},
   "outputs": [],
   "source": [
    "import os\n",
    "from functools import cmp_to_key\n",
    "import re"
   ]
  },
  {
   "cell_type": "code",
   "execution_count": 58,
   "metadata": {},
   "outputs": [],
   "source": [
    "def compare(name1, name2):\n",
    "    pattern = '([0-9]+)(.*)(\\.[a-z]{3,4})'\n",
    "    match1 = re.search(pattern, name1)\n",
    "    match2 = re.search(pattern, name2)\n",
    "    num1 = int(match1.group(1))\n",
    "    num2 = int(match2.group(1))\n",
    "    txt1 = (match1.group(2)).strip()\n",
    "    txt2 = (match2.group(2)).strip()\n",
    "    if num1 == num2:\n",
    "        if (len(txt1) == 0 or len(txt2) == 0):\n",
    "            if (len(txt1) == 0 and len(txt2) == 0):\n",
    "                return 0\n",
    "            return 1 if len(txt1) == 0 else -1\n",
    "        if txt1 < txt2:\n",
    "            return -1\n",
    "        else:\n",
    "            return 1\n",
    "    if num1 < num2:\n",
    "        return -1\n",
    "    else:\n",
    "        return 1\n",
    " \n",
    "compare_key = cmp_to_key(compare)"
   ]
  },
  {
   "cell_type": "code",
   "execution_count": 59,
   "metadata": {},
   "outputs": [
    {
     "name": "stdout",
     "output_type": "stream",
     "text": [
      "['1 (Explanatory Notes).jpg', '1 text (Explanatory Notes).txt', '2 (Poem).jpg', '2 text (Poem).txt', '3 (Ladra).jpg', '3 text (Ladra).txt', '4 (Padparadscha).jpg', '4 text (Padparadscha 1).txt', '5 (Padparadscha).jpeg', '6 (Padparadscha).jpg', '6 text (Padparadscha 2).txt', '7.jpeg', '8 (Antarcticite).jpeg', '9 (Antarcticite).jpeg', '9 text (Antarcticite).txt', '10 (Antarcticite).jpeg', '11 (Antarcticite).jpeg', '12.jpeg', '13.jpeg', '14.jpeg', '15 (Cinnabar).jpeg', '16 (Cinnabar).jpeg', '16 text (Cinnabar).txt', '17 (Cinnabar).jpeg', '18 (Cinnabar).jpeg', '19.jpeg', '20 (Cinnabar).jpeg', '21 (Blue Zoisite).jpeg', '22 (Blue Zoisite).jpeg', '22 text (Blue Zoisite).txt', '23 (Blue Zoisite).jpeg', '24 (Blue Zoisite & Ladra).jpeg', '25 (Blue Zoisite).jpeg', '26 (Blue Zoisite).jpeg', '27.jpeg', '28 (Euclase).jpeg', '28 text (Euclase).txt', '29 (Euclase).jpeg', '30 (Jade).jpeg', '30 text (Jade).txt', '31 (Jade).jpeg', '32.jpeg', '33 (Sensei).jpeg', '34 (Sensei).jpeg', '34 text (Sensei 1).txt', '35 (Sensei).jpeg', '36 (Sensei).jpeg', '36 text (Sensei 2).txt', '37 (Sensei).jpeg', '38 (Hemimorphite & Watermelon Tourmaline).jpeg', '39 (Hemimorphite).jpeg', '39 text (Hemimorphite).txt', '40 (Hemimorphite).jpeg', '41 (Watermelon Tourmaline).jpeg', '41 text (Watermelon Tourmaline).txt', '42 (Watermelon Tourmaline).jpeg', '43.jpeg', '44 (Diamond).jpeg', '45 (Diamond).jpeg', '45 text (Diamond).txt', '46 (Diamond).jpeg', '47.jpeg', '48 (Benitoite & Alexandrite).jpeg', '49 (Alexandrite).jpeg', '49 text (Alexandrite).txt', '50 (Alexandrite).jpeg', '51 (Benitoite).jpeg', '51 text (Benitoite).txt', '52 (Benitoite).jpeg', '53.jpeg', '54 (New Goshenite).jpeg', '55 (New Goshenite).jpeg', '55 text (New Goshenite).txt', '56 (New Goshenite).jpeg', '57 (New Goshenite).jpeg', '58 (Bortz).jpeg', '59 (Bortz).jpeg', '59 text (Bortz 1).txt', '60 (Bortz).jpeg', '61 (Bortz).jpeg', '61 text (Bortz 2).txt', '62 (Bortz).jpeg', '63 (Bortz).jpeg', '64 (Ghost Quartz).jpeg', '65 (Ghost Quartz).jpeg', '65 text (Ghost Quartz).txt', '66 (Ghost Quartz).jpeg', '67 (Ghost Quartz & Neptunite).jpeg', '67 text (Ghost Quartz & Neptunite).txt', '68 (Neptunite).jpeg', '69.jpeg', '70.jpeg', '71 (Zircon).jpeg', '71 text (Zircon).txt', '72 (Zircon).jpeg', '73.jpeg', '74 (Red Beryl).jpeg', '75 (Red Beryl).jpeg', '75 text (Red Beryl).txt', '76 (Red Beryl).jpeg', '77 (Ladra).jpeg', '78 (Rutile).jpeg', '79 (Rutile).jpeg', '79 text (Rutile).txt', '80 (Rutile Sapphire Ruby).jpeg', '81 (Rutile & Padparadscha).jpeg', '82.jpeg', '83 (Peridot).jpeg', '83 text (Peridot).txt', '84 (Sphene Topaz Peridot).jpeg', '85 (Sphene).jpeg', '85 text (Sphene).txt', '86 (Sphene Peridot Topaz).jpeg', '87 (Topaz).jpeg', '87 text (Topaz).txt', '88 (Topaz).jpeg', '89.jpeg', '90.jpeg', '91 (New Morganite).jpeg', '91 text (New Morganite).txt', '92 (New & Old Morganite).jpeg', '93 (Old Morganite).jpeg', '93 text (Old Morganite).txt', '94 (Old Morganite).jpeg', '95.jpeg', '96.jpeg', '97 (Old Goshenite).jpeg', '97 text (Old Goshenite).txt', '98 (Old Goshenite).png', '99 (Amethyst 33).jpeg', '99 text (Amethyst 33).txt', '100 (Amethyst 33 & 84).jpeg', '101.jpeg', '102.jpeg', '103 (Amethyst 84).jpeg', '103 (Amethyst 84).txt', '104 (84 Obsidian Barbata & Misc).jpeg', '105 (Obsidian).jpeg', '105 text (Obsidian).txt', '106 (Obsidian).jpeg', '107 (Chrysoberyl).jpeg', '107 text (Chrysobery).txt', '108 (Chrysoberyl).jpeg', '109.jpeg', '110.jpeg', '111 (Red Diamond).jpeg', '111 text (Red Diamond).txt', '112 (Emerald Red Diamond Aquamarine Fluorite).jpeg', '113 (Emerald).jpeg', '113 text (Emerald).txt', '114 (Emerald & Aquamarine).jpeg', '115.jpeg', '116 (Sapphire Pink Yellow Green Ruby).jpeg', '117 (Yellow Diamond).jpeg', '117 text (Yellow Diamond).txt', '118 (Yellow Diamond).jpeg', '119.jpeg', '120 (Cairngorm).jpeg', '121 (Cairngorm).jpeg', '121 text (Cairngorm 1).txt', '122 (Cairngorm).jpeg', '123 (Cairngorm).jpeg', '123 text (Cairngorm 2).txt', '124 (Cairngorm).jpeg', '125 (Cairngorm).jpeg', '126.jpeg', '127.jpeg', '128.jpeg', '129.jpeg', '130.jpeg', '131.jpeg', '132.jpeg', '133.jpeg', '134.jpeg', '135.jpeg', '136.jpeg', '137.jpeg', '138.jpeg', '139.jpeg', '140.jpeg', '141.jpeg', '142.jpeg', '143.jpeg', '144.jpeg', '145.jpeg', '146.jpeg', '147.jpeg', '148.jpeg', '149.jpeg', '150.jpeg', '151.jpeg', '152.jpeg', '153.jpeg', '154.jpeg', '155.jpeg', '156.jpeg', '157.jpeg', '158.jpeg', '159.jpeg']\n"
     ]
    }
   ],
   "source": [
    "alph_files = os.listdir('./files')\n",
    "alph_files.sort(key=compare_key)\n",
    "\n",
    "print(alph_files)\n"
   ]
  },
  {
   "cell_type": "code",
   "execution_count": 86,
   "metadata": {},
   "outputs": [
    {
     "name": "stdout",
     "output_type": "stream",
     "text": [
      "199\n"
     ]
    }
   ],
   "source": [
    "count = 0\n",
    "\n",
    "if os.path.exists(\"./readfile.md\"):\n",
    "  os.remove(\"./readfile.md\")\n",
    "\n",
    "new_file = open(\"readfile.md\", \"a+\", encoding=\"utf-8\")\n",
    "\n",
    "pattern = '([0-9]+)(.*)(\\.[a-z]{3,4})'\n",
    "\n",
    "for filename in alph_files:\n",
    "    file = os.path.join('./files', filename)\n",
    "    if os.path.isfile(file):\n",
    "        match = re.search(pattern, filename)\n",
    "        ext = match.group(3)\n",
    "\n",
    "        if ext == '.txt':\n",
    "            txt_file = open(file, 'r', encoding='utf-8')\n",
    "            new_file.write(f'# {(match.group(2))[7:-1]}')\n",
    "            new_file.write('\\n\\n')\n",
    "\n",
    "            for line in txt_file.readlines():\n",
    "                new_file.write(line)\n",
    "                new_file.write('\\n')\n",
    "\n",
    "            txt_file.close()\n",
    "\n",
    "        else:\n",
    "            new_file.write('\\n')\n",
    "            new_file.write(f'<img src=\"./files/{filename}\" width=\"700\"/>')\n",
    "            new_file.write('\\n\\n')\n",
    "        \n",
    "        count+=1\n",
    "\n",
    "print(count)\n",
    "\n",
    "new_file.close()\n"
   ]
  }
 ],
 "metadata": {
  "kernelspec": {
   "display_name": "Python 3",
   "language": "python",
   "name": "python3"
  },
  "language_info": {
   "codemirror_mode": {
    "name": "ipython",
    "version": 3
   },
   "file_extension": ".py",
   "mimetype": "text/x-python",
   "name": "python",
   "nbconvert_exporter": "python",
   "pygments_lexer": "ipython3",
   "version": "3.8.10"
  },
  "orig_nbformat": 4
 },
 "nbformat": 4,
 "nbformat_minor": 2
}
